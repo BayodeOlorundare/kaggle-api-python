{
  "nbformat": 4,
  "nbformat_minor": 0,
  "metadata": {
    "colab": {
      "provenance": [],
      "authorship_tag": "ABX9TyMIN8B09W8UkJGhQpWJS94C",
      "include_colab_link": true
    },
    "kernelspec": {
      "name": "python3",
      "display_name": "Python 3"
    },
    "language_info": {
      "name": "python"
    }
  },
  "cells": [
    {
      "cell_type": "markdown",
      "metadata": {
        "id": "view-in-github",
        "colab_type": "text"
      },
      "source": [
        "<a href=\"https://colab.research.google.com/github/BayodeOlorundare/kaggle_api_python/blob/main/2022_fortune_1000_kaggle_api.ipynb\" target=\"_parent\"><img src=\"https://colab.research.google.com/assets/colab-badge.svg\" alt=\"Open In Colab\"/></a>"
      ]
    },
    {
      "cell_type": "code",
      "source": [],
      "metadata": {
        "id": "Jn1Dvj08QDjf"
      },
      "execution_count": 28,
      "outputs": []
    },
    {
      "cell_type": "markdown",
      "source": [
        "Install the Kaggle Python library"
      ],
      "metadata": {
        "id": "voDVkjrEQGEp"
      }
    },
    {
      "cell_type": "code",
      "execution_count": 29,
      "metadata": {
        "colab": {
          "base_uri": "https://localhost:8080/"
        },
        "id": "cZCl9uW4O557",
        "outputId": "98d6fea5-9427-43bf-d730-01fe10913438"
      },
      "outputs": [
        {
          "output_type": "stream",
          "name": "stdout",
          "text": [
            "Requirement already satisfied: kaggle in /usr/local/lib/python3.10/dist-packages (1.5.16)\n",
            "Requirement already satisfied: six>=1.10 in /usr/local/lib/python3.10/dist-packages (from kaggle) (1.16.0)\n",
            "Requirement already satisfied: certifi in /usr/local/lib/python3.10/dist-packages (from kaggle) (2023.7.22)\n",
            "Requirement already satisfied: python-dateutil in /usr/local/lib/python3.10/dist-packages (from kaggle) (2.8.2)\n",
            "Requirement already satisfied: requests in /usr/local/lib/python3.10/dist-packages (from kaggle) (2.27.1)\n",
            "Requirement already satisfied: tqdm in /usr/local/lib/python3.10/dist-packages (from kaggle) (4.65.0)\n",
            "Requirement already satisfied: python-slugify in /usr/local/lib/python3.10/dist-packages (from kaggle) (8.0.1)\n",
            "Requirement already satisfied: urllib3 in /usr/local/lib/python3.10/dist-packages (from kaggle) (1.26.16)\n",
            "Requirement already satisfied: bleach in /usr/local/lib/python3.10/dist-packages (from kaggle) (6.0.0)\n",
            "Requirement already satisfied: webencodings in /usr/local/lib/python3.10/dist-packages (from bleach->kaggle) (0.5.1)\n",
            "Requirement already satisfied: text-unidecode>=1.3 in /usr/local/lib/python3.10/dist-packages (from python-slugify->kaggle) (1.3)\n",
            "Requirement already satisfied: charset-normalizer~=2.0.0 in /usr/local/lib/python3.10/dist-packages (from requests->kaggle) (2.0.12)\n",
            "Requirement already satisfied: idna<4,>=2.5 in /usr/local/lib/python3.10/dist-packages (from requests->kaggle) (3.4)\n"
          ]
        }
      ],
      "source": [
        "! pip install kaggle"
      ]
    },
    {
      "cell_type": "markdown",
      "source": [
        "Mount the Google Drive so you can store your Kaggle API credentials for future use"
      ],
      "metadata": {
        "id": "oXku6Bx9QL7P"
      }
    },
    {
      "cell_type": "code",
      "source": [
        "from google.colab import drive\n",
        "drive.mount('/content/drive')"
      ],
      "metadata": {
        "colab": {
          "base_uri": "https://localhost:8080/"
        },
        "id": "nzCfoL6vQRRj",
        "outputId": "3b9eb525-18e7-4333-e0df-51bd82838865"
      },
      "execution_count": 30,
      "outputs": [
        {
          "output_type": "stream",
          "name": "stdout",
          "text": [
            "Drive already mounted at /content/drive; to attempt to forcibly remount, call drive.mount(\"/content/drive\", force_remount=True).\n"
          ]
        }
      ]
    },
    {
      "cell_type": "markdown",
      "source": [
        "Make a directory for kaggle at the temporary instance location on Colab drive.\n",
        "\n",
        "Download your kaggle API key (.json file). You can do this by going to your kaggle account page and clicking 'Create new API token' under the API section."
      ],
      "metadata": {
        "id": "f6ic2cHlRSEi"
      }
    },
    {
      "cell_type": "code",
      "source": [
        "! mkdir ~/.kaggle"
      ],
      "metadata": {
        "colab": {
          "base_uri": "https://localhost:8080/"
        },
        "id": "y3Zz0jzKRS1n",
        "outputId": "9907a403-4a5e-4224-c8a8-88a6b03c9391"
      },
      "execution_count": 31,
      "outputs": [
        {
          "output_type": "stream",
          "name": "stdout",
          "text": [
            "mkdir: cannot create directory ‘/root/.kaggle’: File exists\n"
          ]
        }
      ]
    },
    {
      "cell_type": "markdown",
      "source": [
        "Upload the json file to Google Drive and then copy to the temporary location."
      ],
      "metadata": {
        "id": "vLRrTboSRlSW"
      }
    },
    {
      "cell_type": "code",
      "source": [
        "!cp /content/drive/MyDrive/Work/Training/Projects/kaggle.json ~/.kaggle/kaggle.json\n"
      ],
      "metadata": {
        "id": "fsxfJjctRmyN"
      },
      "execution_count": 32,
      "outputs": []
    },
    {
      "cell_type": "markdown",
      "source": [
        "Change the file permissions to read/write to the owner only"
      ],
      "metadata": {
        "id": "sjFGk7aJRtpX"
      }
    },
    {
      "cell_type": "code",
      "source": [
        "! chmod 600 ~/.kaggle/kaggle.json"
      ],
      "metadata": {
        "id": "neplW-4rRvXb"
      },
      "execution_count": 33,
      "outputs": []
    },
    {
      "cell_type": "markdown",
      "source": [
        "Download dataset from Kaggle"
      ],
      "metadata": {
        "id": "4vjjokVrSlVZ"
      }
    },
    {
      "cell_type": "code",
      "source": [
        "! kaggle datasets download -d winston56/fortune-500-data-2021"
      ],
      "metadata": {
        "colab": {
          "base_uri": "https://localhost:8080/"
        },
        "id": "GroLODGoSv6j",
        "outputId": "d5d978a7-fd5b-44fe-ebbd-bd05bfc69048"
      },
      "execution_count": 34,
      "outputs": [
        {
          "output_type": "stream",
          "name": "stdout",
          "text": [
            "fortune-500-data-2021.zip: Skipping, found more recently modified local copy (use --force to force download)\n"
          ]
        }
      ]
    },
    {
      "cell_type": "markdown",
      "source": [
        "Unzip, in case the downloaded file is zipped. Refresh the files on the left hand side to update the view."
      ],
      "metadata": {
        "id": "a-Ughq-ETHON"
      }
    },
    {
      "cell_type": "code",
      "source": [
        "! unzip fortune-500-data-2021.zip"
      ],
      "metadata": {
        "colab": {
          "base_uri": "https://localhost:8080/"
        },
        "id": "NVdNvfO6TG7n",
        "outputId": "a99a04f0-fd6a-4259-e62e-23606d49f943"
      },
      "execution_count": 35,
      "outputs": [
        {
          "output_type": "stream",
          "name": "stdout",
          "text": [
            "Archive:  fortune-500-data-2021.zip\n",
            "replace Fortune_1000.csv? [y]es, [n]o, [A]ll, [N]one, [r]ename: y\n",
            "  inflating: Fortune_1000.csv        \n"
          ]
        }
      ]
    },
    {
      "cell_type": "markdown",
      "source": [
        "Using Panda, we will pivot the data so we can create multiple levels for a sunburst when creating visualiztion in Tableau.\n",
        "\n",
        "Then upload the changed csv file into Google Drive folder."
      ],
      "metadata": {
        "id": "zb1l7Czhn_6l"
      }
    },
    {
      "cell_type": "code",
      "source": [
        "import pandas as pd\n",
        "\n",
        "# Step 1: Read the CSV file and create the DataFrame\n",
        "df = pd.read_csv('/content/Fortune_1000.csv')\n",
        "\n",
        "# Step 2: Group by 'sector' and calculate the total profit for each sector\n",
        "sector_totals = df.groupby('sector')['profit'].sum().reset_index()\n",
        "\n",
        "# Step 3: Append a new row for each sector with the total profit for all companies\n",
        "sector_totals['company'] = ''\n",
        "df = pd.concat([df, sector_totals], ignore_index=True)\n",
        "\n",
        "# Step 4: Sort the DataFrame by 'sector' to have the 'Total' row grouped with each sector\n",
        "df = df.sort_values(by='sector')\n",
        "\n",
        "# Step 5: Reset the index to maintain a clean DataFrame\n",
        "df = df.reset_index(drop=True)\n",
        "\n",
        "# Step 6: Add the 'level' column\n",
        "df['level'] = df['company'].apply(lambda x: 1 if x == '' else 2)\n",
        "\n",
        "# Step 7: Sort the DataFrame by sector and profit in descending order\n",
        "df_sorted = df.sort_values(by=['sector', 'profit'], ascending=[True, False])\n",
        "\n",
        "# Step 8: Group the sorted DataFrame by sector\n",
        "grouped = df_sorted.groupby('sector')\n",
        "\n",
        "# Step 9: Select the top 2 companies in each sector based on highest profit\n",
        "df_top_2 = grouped.apply(lambda x: x.nlargest(2, 'profit')).reset_index(drop=True)\n",
        "\n",
        "# Step 10: Duplicate the original dataset\n",
        "df_duplicated = pd.concat([df_top_2] * 2, ignore_index=True)\n",
        "\n",
        "# Step 11: Add the 'ToPad' column and set the values\n",
        "df_duplicated['ToPad'] = 1\n",
        "df_duplicated.loc[df_duplicated.index >= len(df_top_2), 'ToPad'] = 203\n",
        "\n",
        "# Step 12: Save the changes back to the original CSV file\n",
        "# Provide the correct file path to your CSV file in Google Drive to save to\n",
        "csv_file_path = '/content/drive/MyDrive/Work/Training/Projects/Infographics/Infographic Data/Fortune_1000.csv'\n",
        "df_duplicated.to_csv(csv_file_path, index=False)  # Set index=False to exclude index column from saving\n",
        "\n",
        "print(\"Changes saved to the CSV file. And uploaded to Google Drive!\")"
      ],
      "metadata": {
        "colab": {
          "base_uri": "https://localhost:8080/"
        },
        "id": "q4sksmQWoPmt",
        "outputId": "7d14389d-1b45-4dc1-ce8a-d19860c956a1"
      },
      "execution_count": 36,
      "outputs": [
        {
          "output_type": "stream",
          "name": "stdout",
          "text": [
            "Changes saved to the CSV file. And uploaded to Google Drive!\n"
          ]
        }
      ]
    }
  ]
}